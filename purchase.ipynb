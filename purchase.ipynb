{
 "cells": [
  {
   "cell_type": "markdown",
   "metadata": {},
   "source": [
    "# Loading json file"
   ]
  },
  {
   "cell_type": "code",
   "execution_count": 22,
   "metadata": {},
   "outputs": [],
   "source": [
    "import json\n",
    "fd = open(\"record.json\",'r')\n",
    "r = fd.read()\n",
    "fd.close()\n",
    "record = json.loads(r)"
   ]
  },
  {
   "cell_type": "markdown",
   "metadata": {},
   "source": [
    "# Purchasing products and bill genration"
   ]
  },
  {
   "cell_type": "code",
   "execution_count": 32,
   "metadata": {},
   "outputs": [
    {
     "name": "stdout",
     "output_type": "stream",
     "text": [
      "Do you want to continue if yes then input y else n y\n",
      "Enter product id 1009\n",
      "Enter quntity 3\n",
      "Do you want to continue if yes then input y else n y\n",
      "Enter product id 1010\n",
      "Enter quntity 2\n",
      "Do you want to continue if yes then input y else n y\n",
      "Enter product id 1015\n",
      "Enter quntity 2\n",
      "Do you want to continue if yes then input y else n y\n",
      "Enter product id 1002\n",
      "Enter quntity 3\n",
      "Do you want to continue if yes then input y else n n\n",
      "\t\t\t Order Details\n",
      "--------------------------------------------------------------\n",
      "product name\tproduct price\tproduct quntity\tTotal\n",
      "--------------------------------------------------------------\n",
      "mango\t\t60/kg\t\t3kg\t\t 180\n",
      "apple\t\t100/kg\t\t2kg\t\t 200\n",
      "carrot\t\t40/kg\t\t2kg\t\t 80\n",
      "rice\t\t50/kg\t\t3kg\t\t 150\n",
      "--------------------------------------------------------------\n",
      "Total payable amount: 610\n"
     ]
    }
   ],
   "source": [
    "amount=0\n",
    "items=[]\n",
    "while(\"true\"):\n",
    "    choice=input(\"Do you want to continue if yes then input y else n \")\n",
    "    if(choice==\"n\"):\n",
    "        break\n",
    "    elif(choice==\"y\"):\n",
    "        id=input(\"Enter product id \")\n",
    "        if id in record.keys():\n",
    "            qunt=int(input(\"Enter quntity \"))\n",
    "            if(qunt<=record[id]['quantity']):\n",
    "                items.append((id, qunt))\n",
    "            else:\n",
    "                print(\"Available quantity for product id \"+id+\" is \"+str(record[id]['quantity']))\n",
    "        else:\n",
    "            print(\"Invalid id\")\n",
    "    else:\n",
    "        print(\"Enter valid choice\")\n",
    "        continue \n",
    "\n",
    "#Billing\n",
    "\n",
    "print(\"\\t\\t\\t Order Details\")\n",
    "print(\"--------------------------------------------------------------\")\n",
    "print(\"product name\\tproduct price\\tproduct quntity\\tTotal\")\n",
    "print(\"--------------------------------------------------------------\")\n",
    "for i in items:\n",
    "        name=record[i[0]][\"name\"]\n",
    "        price=record[i[0]][\"price\"]\n",
    "        qunt=i[1]\n",
    "        unit=record[i[0]][\"unit\"]\n",
    "        total=qunt*price\n",
    "        amount=total+amount\n",
    "        print(name+\"\\t\"+\"\\t\"+str(price)+\"/\"+unit+\"\\t\\t\"+str(qunt)+unit+\"\\t\\t\"+\" \"+str(total))\n",
    "print(\"--------------------------------------------------------------\")\n",
    "print(\"Total payable amount: \"+str(amount))\n",
    "\n",
    "#updating inventory after purchasing\n",
    "for j in items:\n",
    "        qunt=j[1]\n",
    "        record[j[0]]['quantity'] = record[j[0]]['quantity'] -qunt\n",
    "        js = json.dumps(record)\n",
    "        fd = open(\"record.json\",'w')\n",
    "        fd.write(js)\n",
    "        fd.close()"
   ]
  },
  {
   "cell_type": "code",
   "execution_count": 33,
   "metadata": {},
   "outputs": [
    {
     "data": {
      "text/plain": [
       "{'1001': {'name': 'suger', 'price': 40, 'quantity': 86, 'unit': 'kg'},\n",
       " '1002': {'name': 'rice', 'price': 50, 'quantity': 73, 'unit': 'kg'},\n",
       " '1003': {'name': 'oil', 'price': 100, 'quantity': 94, 'unit': 'kg'},\n",
       " '1004': {'name': 'wheat', 'price': 50, 'quantity': 142, 'unit': 'kg'},\n",
       " '1005': {'name': 'Tea', 'price': 20, 'quantity': 50, 'unit': 'pack'},\n",
       " '1006': {'name': 'coffe', 'price': 10, 'quantity': 37, 'unit': 'pack'},\n",
       " '1007': {'name': 'cake', 'price': 120, 'quantity': 65, 'unit': 'kg'},\n",
       " '1008': {'name': 'milk', 'price': 50, 'quantity': 100, 'unit': 'L'},\n",
       " '1009': {'name': 'mango', 'price': 60, 'quantity': 97, 'unit': 'kg'},\n",
       " '1010': {'name': 'apple', 'price': 100, 'quantity': 148, 'unit': 'kg'},\n",
       " '1011': {'name': 'orange', 'price': 50, 'quantity': 100, 'unit': 'kg'},\n",
       " '1012': {'name': 'corn', 'price': 60, 'quantity': 150, 'unit': 'kg'},\n",
       " '1013': {'name': 'Barley', 'price': 70, 'quantity': 100, 'unit': 'kg'},\n",
       " '1014': {'name': 'Onion', 'price': 30, 'quantity': 47, 'unit': 'kg'},\n",
       " '1015': {'name': 'carrot', 'price': 40, 'quantity': 66, 'unit': 'kg'},\n",
       " '1016': {'name': 'cabbage', 'price': 30, 'quantity': 50, 'unit': 'kg'},\n",
       " '1017': {'name': 'lemon', 'price': 20, 'quantity': 100, 'unit': 'kg'},\n",
       " '1018': {'name': 'garlic', 'price': 50, 'quantity': 20, 'unit': 'kg'},\n",
       " '1019': {'name': 'potato', 'price': 60, 'quantity': 70, 'unit': 'kg'},\n",
       " '1020': {'name': 'Tomato', 'price': 40, 'quantity': 45, 'unit': 'kg'}}"
      ]
     },
     "execution_count": 33,
     "metadata": {},
     "output_type": "execute_result"
    }
   ],
   "source": [
    "record"
   ]
  },
  {
   "cell_type": "markdown",
   "metadata": {},
   "source": [
    "# Transaction history"
   ]
  },
  {
   "cell_type": "code",
   "execution_count": 34,
   "metadata": {},
   "outputs": [],
   "source": [
    "from pytz import timezone \n",
    "from datetime import datetime\n",
    "td = datetime.now(timezone(\"Asia/Kolkata\")).strftime('%Y-%m-%d %I:%M:%S%p')\n",
    "trans_datetime=td\n",
    "\n",
    "Product_ids=[]\n",
    "Product_qunt=[]\n",
    "Product_names=[]\n",
    "Product_price=[]\n",
    "\n",
    "\n",
    "fd = open(\"sells.json\",'r')\n",
    "r = fd.read()\n",
    "fd.close()\n",
    "sells = json.loads(r)\n",
    "trans_id=len(sells)+1\n",
    "\n",
    "for j in items:\n",
    "        id=j[0]\n",
    "        qunt=j[1]\n",
    "        name=record[j[0]][\"name\"]\n",
    "        price=record[j[0]][\"price\"]\n",
    "        Product_ids.append(id)\n",
    "        Product_qunt.append(qunt)\n",
    "        Product_names.append(name)\n",
    "        Product_price.append(price)\n",
    "\n",
    "sells[trans_id] = {'trans_datetime':trans_datetime,'prod_id': Product_ids, 'name': Product_names, \n",
    "            'price':Product_price, 'qn': Product_qunt,'total':amount}\n",
    "js = json.dumps(sells)\n",
    "fd = open(\"sells.json\",'w')\n",
    "fd.write(js)\n",
    "fd.close()\n"
   ]
  },
  {
   "cell_type": "code",
   "execution_count": 35,
   "metadata": {},
   "outputs": [
    {
     "data": {
      "text/plain": [
       "5"
      ]
     },
     "execution_count": 35,
     "metadata": {},
     "output_type": "execute_result"
    }
   ],
   "source": [
    "len(sells)"
   ]
  },
  {
   "cell_type": "code",
   "execution_count": 26,
   "metadata": {},
   "outputs": [
    {
     "data": {
      "text/plain": [
       "3"
      ]
     },
     "execution_count": 26,
     "metadata": {},
     "output_type": "execute_result"
    }
   ],
   "source": []
  },
  {
   "cell_type": "code",
   "execution_count": null,
   "metadata": {},
   "outputs": [],
   "source": []
  }
 ],
 "metadata": {
  "kernelspec": {
   "display_name": "Python 3",
   "language": "python",
   "name": "python3"
  },
  "language_info": {
   "codemirror_mode": {
    "name": "ipython",
    "version": 3
   },
   "file_extension": ".py",
   "mimetype": "text/x-python",
   "name": "python",
   "nbconvert_exporter": "python",
   "pygments_lexer": "ipython3",
   "version": "3.8.3"
  }
 },
 "nbformat": 4,
 "nbformat_minor": 4
}
