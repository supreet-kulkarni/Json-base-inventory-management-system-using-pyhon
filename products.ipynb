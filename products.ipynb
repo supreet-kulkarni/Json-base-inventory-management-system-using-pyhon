{
 "cells": [
  {
   "cell_type": "markdown",
   "metadata": {},
   "source": [
    "# Loading json file"
   ]
  },
  {
   "cell_type": "code",
   "execution_count": 15,
   "metadata": {},
   "outputs": [],
   "source": [
    "import json\n",
    "fd = open(\"record.json\",'r')\n",
    "r = fd.read()\n",
    "fd.close()\n",
    "record = json.loads(r)\n",
    "js=json.dumps(record)"
   ]
  },
  {
   "cell_type": "markdown",
   "metadata": {},
   "source": [
    "# CRUD operations on Inventory products"
   ]
  },
  {
   "cell_type": "code",
   "execution_count": 16,
   "metadata": {},
   "outputs": [
    {
     "name": "stdout",
     "output_type": "stream",
     "text": [
      "------Menu------\n",
      "1.View Products\n",
      "2.Add Products\n",
      "3.Edit Products\n",
      "4.Delete Products\n",
      "5.Exit\n",
      "Enter choice 1\n",
      "---------------------------------------------------------------------------\n",
      "Product Id\tProduct Name\t\tProduct Price\tProduct Quntity\n",
      "---------------------------------------------------------------------------\n",
      "1001\t\tsuger\t\t\t40/kg\t\t\t87\n",
      "1002\t\trice\t\t\t50/kg\t\t\t76\n",
      "1003\t\toil\t\t\t100/kg\t\t\t94\n",
      "1004\t\twheat\t\t\t50/kg\t\t\t147\n",
      "1005\t\tTea\t\t\t20/pack\t\t\t50\n",
      "1006\t\tcoffe\t\t\t10/pack\t\t\t39\n",
      "1007\t\tcake\t\t\t120/kg\t\t\t65\n",
      "1008\t\tmilk\t\t\t50/L\t\t\t100\n",
      "1009\t\tmango\t\t\t60/kg\t\t\t100\n",
      "1010\t\tapple\t\t\t100/kg\t\t\t150\n",
      "1011\t\torange\t\t\t50/kg\t\t\t100\n",
      "1012\t\tcorn\t\t\t60/kg\t\t\t150\n",
      "1013\t\tBarley\t\t\t70/kg\t\t\t100\n",
      "1014\t\tOnion\t\t\t30/kg\t\t\t50\n",
      "1015\t\tcarrot\t\t\t40/kg\t\t\t70\n",
      "1016\t\tcabbage\t\t\t30/kg\t\t\t50\n",
      "1017\t\tlemon\t\t\t20/kg\t\t\t100\n",
      "1018\t\tgarlic\t\t\t50/kg\t\t\t20\n",
      "1019\t\tpotato\t\t\t60/kg\t\t\t70\n",
      "1020\t\tTomato\t\t\t40/kg\t\t\t50\n",
      "Enter choice 5\n"
     ]
    }
   ],
   "source": [
    "print(\"------Menu------\\n1.View Products\\n2.Add Products\\n3.Edit Products\\n4.Delete Products\\n5.Exit\")\n",
    "def products():\n",
    "    print(\"---------------------------------------------------------------------------\")\n",
    "    print(\"Product Id\\tProduct Name\\t\\tProduct Price\\tProduct Quntity\")\n",
    "    print(\"---------------------------------------------------------------------------\")\n",
    "    for i in record:\n",
    "            id=i\n",
    "            name=record[i]['name']\n",
    "            price=record[i]['price']\n",
    "            qunt=record[i]['quantity']\n",
    "            unit=record[i]['unit']\n",
    "            print(str(id)+\"\\t\\t\"+name+\"\\t\\t\"+\"\\t\"+str(price)+\"/\"+unit+\"\\t\\t\\t\"+str(qunt))\n",
    "while(1):\n",
    "    choice=int(input(\"Enter choice \"))\n",
    "    if(choice==1):\n",
    "        products()\n",
    "    elif(choice==2):\n",
    "        id = str(input(\"Enter product id:\"))\n",
    "        if id in record.keys():\n",
    "            print(\"Id already exists\")\n",
    "        else:\n",
    "            name = str(input(\"Enter name:\"))\n",
    "            price = int(input(\"Enter price:\"))\n",
    "            qnant = int(input(\"Enter quantity:\"))\n",
    "            unit =input(\"Enter unit: \")\n",
    "            record[id] = {'name': name, 'price': price, 'quantity': qnant,'unit':unit}\n",
    "            js = json.dumps(record)\n",
    "            fd = open(\"record.json\",'w')\n",
    "            fd.write(js)\n",
    "            fd.close()\n",
    "            \n",
    "    elif(choice==3):\n",
    "        id=input(\"Enter product id to be updated\")\n",
    "        print(\"----------Info----------\")\n",
    "        print(\"Input 'a' for updating product name\\nInput 'b' for updating product price\\nInput 'c' for updating product quantity\\nInput 'd' for updating product unit\")\n",
    "        ch=input(\"Enter choice\")\n",
    "        if(ch=='a'):\n",
    "            name=input(\"Enter product name\")\n",
    "            record[id]['name'] =name\n",
    "            js = json.dumps(record)\n",
    "            fd = open(\"record.json\",'w')\n",
    "            fd.write(js)\n",
    "            fd.close()\n",
    "           \n",
    "        elif(ch=='b'):\n",
    "            price=int(input(\"Enter product price\"))\n",
    "            record[id]['price'] =price\n",
    "            js = json.dumps(record)\n",
    "            fd = open(\"record.json\",'w')\n",
    "            fd.write(js)\n",
    "            fd.close()\n",
    "            \n",
    "        elif(ch=='c'):\n",
    "            qunt=int(input(\"Enter product quantity\"))\n",
    "            record[id]['quantity'] =record[id]['quantity']+qunt\n",
    "            js = json.dumps(record)\n",
    "            fd = open(\"record.json\",'w')\n",
    "            fd.write(js)\n",
    "            fd.close()\n",
    "           \n",
    "        elif(ch=='d'):\n",
    "            unit=input(\"Enter product unit\")\n",
    "            record[id]['unit'] =unit\n",
    "            js = json.dumps(record)\n",
    "            fd = open(\"record.json\",'w')\n",
    "            fd.write(js)\n",
    "            fd.close()\n",
    "           \n",
    "    elif(choice==4):\n",
    "        id=input(\"Enter id for product to be deleted\")\n",
    "        if id in record.keys():\n",
    "            del record[id]\n",
    "            js = json.dumps(record)\n",
    "            fd = open(\"record.json\",'w')\n",
    "            fd.write(js)\n",
    "            fd.close()\n",
    "           \n",
    "        else:\n",
    "            print(\"Id does not exists\")\n",
    "    elif(choice==5):\n",
    "        break\n",
    "    else:\n",
    "        print(\"Enter valid choice\")\n",
    "        continue"
   ]
  },
  {
   "cell_type": "code",
   "execution_count": 13,
   "metadata": {},
   "outputs": [
    {
     "data": {
      "text/plain": [
       "{'1001': {'name': 'suger', 'price': 40, 'quantity': 87, 'unit': 'kg'},\n",
       " '1002': {'name': 'rice', 'price': 50, 'quantity': 76, 'unit': 'kg'},\n",
       " '1003': {'name': 'oil', 'price': 100, 'quantity': 94, 'unit': 'kg'},\n",
       " '1004': {'name': 'wheat', 'price': 50, 'quantity': 147, 'unit': 'kg'},\n",
       " '1005': {'name': 'Tea', 'price': 20, 'quantity': 50, 'unit': 'pack'},\n",
       " '1006': {'name': 'coffe', 'price': 10, 'quantity': 39, 'unit': 'pack'},\n",
       " '1007': {'name': 'cake', 'price': 120, 'quantity': 65, 'unit': 'kg'},\n",
       " '1008': {'name': 'milk', 'price': 50, 'quantity': 100, 'unit': 'L'},\n",
       " '1009': {'name': 'mango', 'price': 60, 'quantity': 100, 'unit': 'kg'},\n",
       " '1010': {'name': 'apple', 'price': 100, 'quantity': 150, 'unit': 'kg'},\n",
       " '1011': {'name': 'orange', 'price': 50, 'quantity': 100, 'unit': 'kg'},\n",
       " '1012': {'name': 'corn', 'price': 60, 'quantity': 150, 'unit': 'kg'},\n",
       " '1013': {'name': 'Barley', 'price': 70, 'quantity': 100, 'unit': 'kg'},\n",
       " '1014': {'name': 'Onion', 'price': 30, 'quantity': 50, 'unit': 'kg'},\n",
       " '1015': {'name': 'carrot', 'price': 40, 'quantity': 70, 'unit': 'kg'},\n",
       " '1016': {'name': 'cabbage', 'price': 30, 'quantity': 50, 'unit': 'kg'},\n",
       " '1017': {'name': 'lemon', 'price': 20, 'quantity': 100, 'unit': 'kg'},\n",
       " '1018': {'name': 'garlic', 'price': 50, 'quantity': 20, 'unit': 'kg'},\n",
       " '1019': {'name': 'potato', 'price': 60, 'quantity': 70, 'unit': 'kg'},\n",
       " '1020': {'name': 'Tomato', 'price': 40, 'quantity': 50, 'unit': 'kg'}}"
      ]
     },
     "execution_count": 13,
     "metadata": {},
     "output_type": "execute_result"
    }
   ],
   "source": [
    "record"
   ]
  },
  {
   "cell_type": "code",
   "execution_count": null,
   "metadata": {},
   "outputs": [],
   "source": []
  },
  {
   "cell_type": "code",
   "execution_count": null,
   "metadata": {},
   "outputs": [],
   "source": []
  },
  {
   "cell_type": "code",
   "execution_count": null,
   "metadata": {},
   "outputs": [],
   "source": []
  }
 ],
 "metadata": {
  "kernelspec": {
   "display_name": "Python 3",
   "language": "python",
   "name": "python3"
  },
  "language_info": {
   "codemirror_mode": {
    "name": "ipython",
    "version": 3
   },
   "file_extension": ".py",
   "mimetype": "text/x-python",
   "name": "python",
   "nbconvert_exporter": "python",
   "pygments_lexer": "ipython3",
   "version": "3.8.3"
  }
 },
 "nbformat": 4,
 "nbformat_minor": 4
}
